{
 "cells": [
  {
   "cell_type": "markdown",
   "metadata": {},
   "source": [
    "# Filtering of ERT and IP data\n",
    "\n",
    "Adapted from:\n",
    "Flores Orozco A., Gallistl J., Bücker M. & Williams K. (2018). Decay curve analysis for\n",
    "data error quantification in time-domain induced polarization imaging. GEOPHYSICS, 83 (2),\n",
    "1MA-Z8. https://doi.org/10.1190/geo2016-0714.1\n",
    "\n",
    "Use only for IP filtering or when reciprocals are not present."
   ]
  },
  {
   "cell_type": "code",
   "execution_count": 60,
   "metadata": {},
   "outputs": [],
   "source": [
    "import numpy as np\n",
    "import pandas as pd\n",
    "from scipy.optimize import curve_fit, minimize_scalar\n",
    "from matplotlib import pyplot as plt\n",
    "\n",
    "import ExtractLines as el\n",
    "\n",
    "import re\n",
    "# From StackOverflow: https://stackoverflow.com/questions/4703390/how-to-extract-a-floating-number-from-a-string\n",
    "numeric_const_pattern = '[-+]? (?: (?: \\d* \\. \\d+ ) | (?: \\d+ \\.? ) )(?: [Ee] [+-]? \\d+ ) ?'\n",
    "floatsExtractor = re.compile(numeric_const_pattern, re.VERBOSE)\n",
    "\n",
    "plt.rcParams['figure.dpi'] = 200\n",
    "plt.rcParams['savefig.dpi'] = 200\n",
    "\n",
    "# Counters initializer:\n",
    "nbFails = 0\n",
    "value = 0\n",
    "# Global values:\n",
    "graphs = False\n",
    "\n",
    "## Defining common functions:\n",
    "def computeChargeability(IP, windows):\n",
    "    a = 0\n",
    "    for i, ti in enumerate(windows):\n",
    "        a += IP[i]*ti\n",
    "    return a/np.sum(windows)\n",
    "\n",
    "def chargeaOpti(t, alpha, beta, eps):\n",
    "    return alpha * np.power(t, -beta) + eps\n",
    "\n",
    "def fitChargea(IP, times, res):\n",
    "    global nbFails, value, graphs\n",
    "    try:\n",
    "        popt, pcov = curve_fit(chargeaOpti, times, IP, np.asarray([10, 0.1, 0]), maxfev=10000, method='trf')\n",
    "        alpha   = popt[0]\n",
    "        beta    = popt[1]\n",
    "        eps     = popt[2]\n",
    "        if graphs and (value % 100 == 0):\n",
    "            fig = plt.figure()\n",
    "            ax = fig.add_subplot(111)\n",
    "            ax.plot(times, IP, 'or')\n",
    "            ax.plot(times, chargeaOpti(times, alpha, beta, eps))\n",
    "            ax.set_title(f'R = {res}')\n",
    "            plt.show(block=False)\n",
    "        value += 1\n",
    "    except:\n",
    "        nbFails +=1\n",
    "        alpha   = np.NaN\n",
    "        beta    = np.NaN\n",
    "        eps     = np.NaN\n",
    "        if graphs:\n",
    "            fig = plt.figure()\n",
    "            ax = fig.add_subplot(111)\n",
    "            ax.plot(times, IP, 'or')\n",
    "            ax.set_title(f'R = {res}')\n",
    "            plt.show(block=False)\n",
    "    return alpha, beta, eps\n",
    "\n",
    "def computeRMSD(IP, times, alpha, beta, eps):\n",
    "    return np.sqrt(1/len(IP) * np.sum(np.power(chargeaOpti(times, alpha, beta, eps) - IP, 2)))\n",
    "\n",
    "def referenceMedian(row, df, times):\n",
    "    # Find the index of similar A and B:\n",
    "    currDf = df[(df['A(x)'] == row['A(x)']) & (df['A(y)'] == row['A(y)']) & (df['A(z)'] == row['A(z)']) &\n",
    "                (df['B(x)'] == row['B(x)']) & (df['B(y)'] == row['B(y)']) & (df['B(z)'] == row['B(z)'])] # Select the rows with the same a and b as the idxRow one.\n",
    "    # Compute the reference:\n",
    "    ref = np.median(np.asarray([chargeaOpti(times, rowLoop['alpha'], rowLoop['beta'], rowLoop['eps']) for _, rowLoop in currDf.iterrows()]), axis=0)\n",
    "    return ref\n",
    "\n",
    "def rmsdRef(ref, fit):\n",
    "    return np.sqrt(1/len(ref) * np.sum(np.power(ref - fit, 2)))\n",
    "\n",
    "def computeShift(ref, fit):\n",
    "    ku = np.nan\n",
    "    kd = np.nan\n",
    "    def misfitShift(k):\n",
    "        return rmsdRef(ref, fit+k)\n",
    "    kOpt = minimize_scalar(misfitShift)\n",
    "    if kOpt.success:\n",
    "        kOpt = kOpt.x\n",
    "        if kOpt < 0:\n",
    "            kd = -kOpt\n",
    "        else:\n",
    "            ku = kOpt\n",
    "    else:\n",
    "        print('Failed to minimize the functional')\n",
    "    return ku, kd"
   ]
  },
  {
   "cell_type": "markdown",
   "metadata": {},
   "source": [
    "### Define the main variables:"
   ]
  },
  {
   "cell_type": "code",
   "execution_count": 61,
   "metadata": {},
   "outputs": [],
   "source": [
    "## Main parametres:\n",
    "fileName = './AgatheData/Project2_G7_ABMN_1.txt'\n",
    "errorModelling = True"
   ]
  },
  {
   "cell_type": "markdown",
   "metadata": {},
   "source": [
    "### Loading the dataset"
   ]
  },
  {
   "cell_type": "code",
   "execution_count": 62,
   "metadata": {},
   "outputs": [
    {
     "name": "stdout",
     "output_type": "stream",
     "text": [
      "The current file is broken. Trying to fix it\n",
      "Delay Time (sec): 0.01\n",
      "Window times (20): [0.01, 0.01, 0.02, 0.02, 0.03, 0.03, 0.04, 0.04, 0.05, 0.05, 0.07, 0.07, 0.09, 0.09, 0.13, 0.13, 0.2, 0.2, 0.29, 0.29]\n",
      "Number of data points: 1222 (100.0 %)\n",
      "       IP #1(mV/V)  IP #2(mV/V)  IP #3(mV/V)  IP #4(mV/V)  IP #5(mV/V)  \\\n",
      "count  1222.000000  1222.000000  1222.000000  1222.000000  1222.000000   \n",
      "mean     85.971244    76.090570    69.908834    61.517777    54.573576   \n",
      "std      61.373381    59.615362    66.266512    63.128150    59.912099   \n",
      "min     -33.069121   -85.619238   -33.184054   -31.400935   -29.049804   \n",
      "25%      32.091837    27.524209    23.442411    19.280590    16.769312   \n",
      "50%      77.048974    67.247314    58.028476    50.569935    44.305978   \n",
      "75%     120.223210   103.877873    89.774958    77.694814    67.863951   \n",
      "max     390.930442   458.929893   513.449789   494.218671   474.224021   \n",
      "\n",
      "       IP #6(mV/V)  IP #7(mV/V)  IP #8(mV/V)  IP #9(mV/V)  IP #10(mV/V)  \\\n",
      "count  1222.000000  1222.000000  1222.000000  1222.000000   1222.000000   \n",
      "mean     48.840836    43.932012    39.626703    35.849790     32.495198   \n",
      "std      57.496821    55.443243    53.800591    52.410791     51.353656   \n",
      "min     -28.906939   -25.296797   -24.285896   -22.798506    -23.465499   \n",
      "25%      14.715423    12.920146    11.358652    10.034689      8.870283   \n",
      "50%      39.157329    34.529317    30.429731    27.004309     23.922859   \n",
      "75%      59.344798    52.177257    46.144964    40.849833     36.090987   \n",
      "max     455.975057   440.172045   426.328203   414.333980    403.428685   \n",
      "\n",
      "       IP #11(mV/V)  IP #12(mV/V)  IP #13(mV/V)  IP #14(mV/V)  IP #15(mV/V)  \\\n",
      "count   1222.000000   1222.000000   1222.000000   1222.000000   1222.000000   \n",
      "mean      29.265779     26.211741     23.359067     20.721139     18.075180   \n",
      "std       50.390447     49.656745     49.024879     48.604113     48.228212   \n",
      "min      -21.291809    -19.099016    -16.586427    -15.685837    -11.088419   \n",
      "25%        7.790186      6.718480      5.731125      4.811259      3.869793   \n",
      "50%       20.831225     18.098608     15.354274     13.003799     10.424157   \n",
      "75%       31.542735     27.167712     23.126486     19.454720     15.776213   \n",
      "max      393.667736    384.939231    377.252103    370.534399    364.486412   \n",
      "\n",
      "       IP #16(mV/V)  IP #17(mV/V)  IP #18(mV/V)  IP #19(mV/V)  IP #20(mV/V)  \n",
      "count   1222.000000   1222.000000   1222.000000   1222.000000   1222.000000  \n",
      "mean       8.610669      5.918009      3.257776      0.639079     -1.897334  \n",
      "std        6.506879      4.490082      2.498218      0.572051      1.429088  \n",
      "min       -9.128774     -5.734586     -3.599994     -1.811669     -9.048584  \n",
      "25%        2.946217      2.030849      1.120999      0.229400     -2.558858  \n",
      "50%        7.914331      5.410575      2.994638      0.612708     -1.742195  \n",
      "75%       11.633022      8.003253      4.368152      0.903524     -0.662705  \n",
      "max       42.844563     29.278385     15.981591      3.132170      0.666246  \n",
      "            MeasID         DPID      Channel         A(x)    A(y)    A(z)  \\\n",
      "count  1222.000000  1222.000000  1222.000000  1222.000000  1222.0  1222.0   \n",
      "mean    226.547463   873.716858     5.576105    28.960311     0.0     0.0   \n",
      "std      58.866280   388.818924     3.532512    21.748164     0.0     0.0   \n",
      "min     128.000000   218.000000     1.000000     0.000000     0.0     0.0   \n",
      "25%     176.000000   538.250000     2.000000    10.500000     0.0     0.0   \n",
      "50%     225.000000   863.500000     5.000000    24.000000     0.0     0.0   \n",
      "75%     282.000000  1202.750000     8.000000    46.500000     0.0     0.0   \n",
      "max     325.000000  1587.000000    12.000000    81.000000     0.0     0.0   \n",
      "\n",
      "            A(adr)         B(x)    B(y)    B(z)  ...  IP dV #17(mV)  \\\n",
      "count  1222.000000  1222.000000  1222.0  1222.0  ...    1222.000000   \n",
      "mean     24.688216    66.930442     0.0     0.0  ...       9.590791   \n",
      "std      12.554556    20.842946     0.0     0.0  ...      16.541089   \n",
      "min       1.000000    13.500000     0.0     0.0  ...      -0.480967   \n",
      "25%      15.000000    55.500000     0.0     0.0  ...       0.523883   \n",
      "50%      25.000000    70.500000     0.0     0.0  ...       2.422302   \n",
      "75%      32.000000    84.000000     0.0     0.0  ...      11.991595   \n",
      "max      55.000000    94.500000     0.0     0.0  ...     222.839145   \n",
      "\n",
      "       IP dV #18(mV)  IP dV #19(mV)  IP dV #20(mV)      Pint(V)      Pext(V)  \\\n",
      "count    1222.000000    1222.000000    1222.000000  1222.000000  1222.000000   \n",
      "mean        5.268799       1.037483      -3.024514    13.637644    12.594060   \n",
      "std         9.104858       1.851598       5.146976     0.006109     0.046197   \n",
      "min        -0.301936      -3.691107     -68.573213    13.603600    12.513600   \n",
      "25%         0.286087       0.054842      -3.762750    13.639100    12.557900   \n",
      "50%         1.321599       0.243400      -0.779932    13.639100    12.593300   \n",
      "75%         6.563985       1.295785      -0.171382    13.639100    12.619900   \n",
      "max       123.024630      25.015306       0.034836    13.647900    12.779400   \n",
      "\n",
      "       T int(deg C)  T log(deg C)     Latitude    Longitude  \n",
      "count   1222.000000        1222.0  1222.000000  1222.000000  \n",
      "mean      28.426472           0.0    46.164240     5.065915  \n",
      "std        0.739962           0.0    14.306649     1.569966  \n",
      "min       27.382300           0.0     0.000000     0.000000  \n",
      "25%       27.772200           0.0    50.594200     5.551280  \n",
      "50%       28.356950           0.0    50.594300     5.551560  \n",
      "75%       28.941700           0.0    50.594400     5.552990  \n",
      "max       30.890900           0.0    50.595300     5.553590  \n",
      "\n",
      "[8 rows x 78 columns]\n"
     ]
    }
   ],
   "source": [
    "## Reading the file using pandas\n",
    "deltaT = None\n",
    "f = open(fileName, 'r')\n",
    "for line in f.readlines():\n",
    "    if deltaT is not None:\n",
    "        break\n",
    "    if 'IP_WindowSecList' in line:\n",
    "        deltaT = [float(i) for i in floatsExtractor.findall(line)]\n",
    "lineHeaders, lineEnd = el.getLines(filename=fileName)\n",
    "dataSet = pd.read_csv(fileName, skiprows=lineHeaders, nrows=lineEnd-lineHeaders-2, sep='\\t', index_col=False) # Need to check for 2 rows too much. Is it the case for every files???\n",
    "nbDataInit = dataSet.shape[0]\n",
    "delayT = deltaT[0]\n",
    "deltaT = deltaT[1:]\n",
    "timesIP = (np.cumsum(deltaT) + delayT) * 1000   # Time for the windows (msec)\n",
    "print(f'Delay Time (sec): {delayT}')\n",
    "print(f'Window times ({len(deltaT)}): {deltaT}')\n",
    "print(f'Number of data points: {dataSet.shape[0]} ({dataSet.shape[0]/nbDataInit*100} %)')\n",
    "\n",
    "ipData = [col for col in dataSet if col.startswith('IP #')]\n",
    "print(dataSet[ipData].describe())"
   ]
  },
  {
   "cell_type": "markdown",
   "metadata": {},
   "source": [
    "### Fitting of a power law"
   ]
  },
  {
   "cell_type": "code",
   "execution_count": 63,
   "metadata": {},
   "outputs": [
    {
     "name": "stdout",
     "output_type": "stream",
     "text": [
      "       Chargeability (mV/V)         alpha         beta\n",
      "count           1222.000000  1.222000e+03  1222.000000\n",
      "mean              14.463037  4.052544e+04     0.170928\n",
      "std               20.742618  2.298758e+05     0.378232\n",
      "min               -9.871744  1.523143e-01    -0.216944\n",
      "25%                4.105911  1.514667e+02     0.102272\n",
      "50%               10.951368  3.118102e+02     0.145986\n",
      "75%               16.543458  4.767556e+02     0.189739\n",
      "max              163.636252  2.278742e+06    12.708719\n",
      "Number of failed fit: 0\n"
     ]
    }
   ],
   "source": [
    "## Fitting of a power law mf(t) = alpha*t^(-beta) + eta:\n",
    "dataSet['Chargeability (mV/V)'] = dataSet.apply(lambda row: computeChargeability(row[ipData], deltaT), axis=1)\n",
    "dataSet[['alpha', 'beta', 'eps']] = dataSet.apply(lambda row: fitChargea(row[ipData], timesIP, row['R(Ohm)']), axis=1, result_type='expand')\n",
    "dataSet = dataSet.dropna(subset=['alpha', 'beta', 'eps'])\n",
    "print(dataSet[['Chargeability (mV/V)', 'alpha', 'beta']].describe())\n",
    "print(f'Number of failed fit: {nbFails}')\n",
    "if graphs: \n",
    "    plt.show()"
   ]
  },
  {
   "cell_type": "markdown",
   "metadata": {},
   "source": [
    "### Fisrt filter (decaying curve?)"
   ]
  },
  {
   "cell_type": "code",
   "execution_count": 71,
   "metadata": {},
   "outputs": [
    {
     "name": "stdout",
     "output_type": "stream",
     "text": [
      "Number of data points after the first filter: 930 (76.10474631751228 %)\n",
      "count    930.000000\n",
      "mean       2.669943\n",
      "std       16.428747\n",
      "min        0.055159\n",
      "25%        0.357773\n",
      "50%        0.538141\n",
      "75%        0.750501\n",
      "max      161.771569\n",
      "Name: rmsd, dtype: float64\n"
     ]
    }
   ],
   "source": [
    "## Fisrt filter (non decaying curves) - alpha and beta of diferent signs:\n",
    "prod = np.multiply(dataSet['alpha'], dataSet['beta'])\n",
    "dataSet = dataSet[prod>0]\n",
    "print(f'Number of data points after the first filter: {dataSet.shape[0]} ({dataSet.shape[0]/nbDataInit*100} %)')\n",
    "## Root mean square deviation computation:\n",
    "dataSet['rmsd'] = dataSet.apply(lambda row: computeRMSD(row[ipData], timesIP, row['alpha'], row['beta'], row['eps']), axis=1)\n",
    "print(dataSet['rmsd'].describe())"
   ]
  },
  {
   "cell_type": "markdown",
   "metadata": {},
   "source": [
    "### Construction of reference curves"
   ]
  },
  {
   "cell_type": "code",
   "execution_count": 65,
   "metadata": {},
   "outputs": [],
   "source": [
    "## Construction of reference curves for each AB couples:\n",
    "dataSet['Reference'] = dataSet.apply(lambda row: referenceMedian(row, dataSet, timesIP), axis=1) # Median curve\n",
    "dataSet['Fitted'] = dataSet.apply(lambda row: chargeaOpti(timesIP, row['alpha'], row['beta'], row['eps']), axis=1) # Fitted curve\n",
    "dataSet['Measured'] = dataSet.apply(lambda row: np.asarray(row[ipData]).flatten(), axis=1) # Measured curve\n",
    "\n",
    "dataSet[['ku', 'kd']] = dataSet.apply(lambda row: computeShift(row['Reference'], row['Fitted']), axis=1, result_type='expand')"
   ]
  },
  {
   "cell_type": "markdown",
   "metadata": {},
   "source": [
    "### Second filter (far from reference)"
   ]
  },
  {
   "cell_type": "code",
   "execution_count": 66,
   "metadata": {},
   "outputs": [
    {
     "name": "stdout",
     "output_type": "stream",
     "text": [
      "The dataset is noisy!\n",
      "Number of data points after the second filter: 930 (76.10474631751228 %)\n",
      "count    930.000000\n",
      "mean      12.150848\n",
      "std       16.565972\n",
      "min       -0.723955\n",
      "25%        4.077386\n",
      "50%       10.263378\n",
      "75%       14.738490\n",
      "max      154.755293\n",
      "Name: Chargeability (mV/V), dtype: float64\n"
     ]
    }
   ],
   "source": [
    "## Second filter (far from reference curves):\n",
    "stdKu = dataSet['ku'].std()\n",
    "stdKd = dataSet['kd'].std()\n",
    "# Calculating the noise level:\n",
    "kuMult, kdMult = 3, 3 # General case\n",
    "if 3*stdKu >  2*dataSet['Chargeability (mV/V)'].median():\n",
    "    print('The dataset is noisy!')\n",
    "    # Noisy dataset\n",
    "    kuMult, kdMult = 1.5, 1\n",
    "elif 3*stdKu < dataSet['Chargeability (mV/V)'].median():\n",
    "    # Clean dataset\n",
    "    print('The dataset is clean!')\n",
    "    kuMult, kdMult = 4, 4\n",
    "\n",
    "dataSet = dataSet[(dataSet['ku'] < kuMult*stdKu) | (dataSet['kd'] < kdMult*stdKd)]\n",
    "print(f'Number of data points after the second filter: {dataSet.shape[0]} ({dataSet.shape[0]/nbDataInit*100} %)')\n",
    "print(dataSet['Chargeability (mV/V)'].describe())\n",
    "dataSet = dataSet.reset_index(drop=True)\n",
    "dataSet['DCAmisfit'] = dataSet.apply(lambda row: row['Fitted']-row['Measured'], axis=1)"
   ]
  },
  {
   "cell_type": "markdown",
   "metadata": {},
   "source": [
    "# Building an error model"
   ]
  },
  {
   "cell_type": "code",
   "execution_count": 70,
   "metadata": {},
   "outputs": [
    {
     "name": "stdout",
     "output_type": "stream",
     "text": [
      "Error model for IP: s = 17.211275141605455R^-0.12937580084420244\n",
      "Error model for IP(r): s = 3.1705068608062588/R + 12.118318131002091\n"
     ]
    },
    {
     "data": {
      "image/png": "[encoded data removed]",
      "text/plain": [
       "<Figure size 1200x800 with 1 Axes>"
      ]
     },
     "metadata": {
      "needs_background": "light"
     },
     "output_type": "display_data"
    }
   ],
   "source": [
    "nbBins = 10\n",
    "\n",
    "fig = plt.figure()\n",
    "ax = fig.add_subplot(111)\n",
    "for _, row in dataSet.iterrows():\n",
    "    ax.plot(np.ones((len(timesIP),))*np.abs(row['R(Ohm)']), row['DCAmisfit'], 'or')\n",
    "ax.set_xscale('log')\n",
    "ax.set_xlabel('R (Ohm)')\n",
    "ax.set_ylabel('Misfit (in mV/V)')\n",
    "ax.set_ylim([-25, 25])\n",
    "ax.grid()\n",
    "\n",
    "bins = np.logspace(np.log10(dataSet['R(Ohm)'].min()), np.log10(dataSet['R(Ohm)'].max()), num=nbBins+1)\n",
    "binsCenters = (bins[1:] + bins[:-1])/2\n",
    "stdMisfit = np.zeros((nbBins,))\n",
    "for i in range(nbBins):\n",
    "    currData = dataSet[(dataSet['R(Ohm)']>=bins[i]) & (dataSet['R(Ohm)']<bins[i+1])]\n",
    "    misfits = np.array(currData['DCAmisfit'].to_list()).flatten()\n",
    "    stdMisfit[i] = np.std(misfits)\n",
    "ax.plot(binsCenters, stdMisfit, 'dk')\n",
    "\n",
    "def errorIP(R, a, b):\n",
    "    return a * np.power(R, b)\n",
    "\n",
    "popt, _ = curve_fit(errorIP, binsCenters, stdMisfit, bounds=([0, -np.inf], [np.inf, 0]))\n",
    "a = popt[0]\n",
    "b = popt[1]\n",
    "print(f'Error model for IP: s = {a}R^{b}')\n",
    "ax.plot(binsCenters, errorIP(binsCenters, a, b), 'k')\n",
    "\n",
    "def errorIP_r(R, c, d):\n",
    "    return np.divide(c, R) + d\n",
    "\n",
    "popt, _ = curve_fit(errorIP_r, binsCenters, stdMisfit, bounds=(0, np.inf))\n",
    "c = popt[0]\n",
    "d = popt[1]\n",
    "print(f'Error model for IP(r): s = {c}/R + {d}')\n",
    "ax.plot(binsCenters, errorIP_r(binsCenters, c, d), 'g')\n",
    "\n",
    "plt.show()"
   ]
  }
 ],
 "metadata": {
  "interpreter": {
   "hash": "b685f30efa1d91993545006a618214429a5db29179d566b28f69f58e9c3bc6ba"
  },
  "kernelspec": {
   "display_name": "Python 3.8.13 64-bit ('pybert': conda)",
   "language": "python",
   "name": "python3"
  },
  "language_info": {
   "codemirror_mode": {
    "name": "ipython",
    "version": 3
   },
   "file_extension": ".py",
   "mimetype": "text/x-python",
   "name": "python",
   "nbconvert_exporter": "python",
   "pygments_lexer": "ipython3",
   "version": "3.7.12"
  },
  "orig_nbformat": 4
 },
 "nbformat": 4,
 "nbformat_minor": 2
}
